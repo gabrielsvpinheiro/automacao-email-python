{
 "cells": [
  {
   "cell_type": "markdown",
   "id": "9480f07a",
   "metadata": {},
   "source": [
    "# Automação de Sistemas e Processos com Python (E-mail)"
   ]
  },
  {
   "cell_type": "markdown",
   "id": "a61396ef",
   "metadata": {},
   "source": [
    "<h3>Passo a passo:</h3>\n",
    "\n",
    "* Passo 1: Entrar no sistema (Link: https://drive.google.com/drive/u/0/folders/161aOo_wL-k2BBqqCb4b40PL2PvP_0rgA)\n",
    "* Passo 2: Navegar até o local do relatório (entrar na pasta Exportar)\n",
    "* Passo 3: Fazer o download do relatório\n",
    "* Passo 4: Calcular os indicadores\n",
    "* Passo 5: Entrar no e-mail\n",
    "* Passo 6: Enviar por e-mail o resultado"
   ]
  },
  {
   "cell_type": "markdown",
   "id": "178c4904",
   "metadata": {},
   "source": [
    "<h3>Configurações Iniciais</h3>"
   ]
  },
  {
   "cell_type": "code",
   "execution_count": 70,
   "id": "4398f678",
   "metadata": {},
   "outputs": [
    {
     "name": "stdout",
     "output_type": "stream",
     "text": [
      "Requirement already satisfied: pyautogui in c:\\users\\gabri\\anaconda3\\lib\\site-packages (0.9.53)\n",
      "Requirement already satisfied: pyscreeze>=0.1.21 in c:\\users\\gabri\\anaconda3\\lib\\site-packages (from pyautogui) (0.1.28)\n",
      "Requirement already satisfied: pygetwindow>=0.0.5 in c:\\users\\gabri\\anaconda3\\lib\\site-packages (from pyautogui) (0.0.9)\n",
      "Requirement already satisfied: PyTweening>=1.0.1 in c:\\users\\gabri\\anaconda3\\lib\\site-packages (from pyautogui) (1.0.4)\n",
      "Requirement already satisfied: mouseinfo in c:\\users\\gabri\\anaconda3\\lib\\site-packages (from pyautogui) (0.1.3)\n",
      "Requirement already satisfied: pymsgbox in c:\\users\\gabri\\anaconda3\\lib\\site-packages (from pyautogui) (1.0.9)\n",
      "Requirement already satisfied: pyrect in c:\\users\\gabri\\anaconda3\\lib\\site-packages (from pygetwindow>=0.0.5->pyautogui) (0.2.0)\n",
      "Requirement already satisfied: pyperclip in c:\\users\\gabri\\anaconda3\\lib\\site-packages (from mouseinfo->pyautogui) (1.8.2)\n",
      "Requirement already satisfied: pyperclip in c:\\users\\gabri\\anaconda3\\lib\\site-packages (1.8.2)\n"
     ]
    }
   ],
   "source": [
    "!pip install pyautogui\n",
    "!pip install pyperclip"
   ]
  },
  {
   "cell_type": "code",
   "execution_count": 71,
   "id": "79292046",
   "metadata": {},
   "outputs": [],
   "source": [
    "import pyautogui\n",
    "import pyperclip\n",
    "import time\n",
    "import pandas as pd\n",
    "\n",
    "pyautogui.PAUSE = 1"
   ]
  },
  {
   "cell_type": "markdown",
   "id": "19844e2f",
   "metadata": {},
   "source": [
    "<h3>Acessar o arquivo e fazer download</h3>"
   ]
  },
  {
   "cell_type": "code",
   "execution_count": 72,
   "id": "03ede41f",
   "metadata": {},
   "outputs": [],
   "source": [
    "# Passo 1\n",
    "pyautogui.hotkey(\"ctrl\", \"t\")\n",
    "pyperclip.copy(\"https://drive.google.com/drive/u/0/folders/161aOo_wL-k2BBqqCb4b40PL2PvP_0rgA\")\n",
    "pyautogui.hotkey(\"ctrl\", \"v\")\n",
    "pyautogui.press(\"enter\")\n",
    "\n",
    "time.sleep(2)\n",
    "\n",
    "# Passo 2\n",
    "pyautogui.click(x=406, y=297, clicks=2)\n",
    "time.sleep(2)\n",
    "\n",
    "# Passo 3\n",
    "pyautogui.click(x=406, y=297)\n",
    "time.sleep(1)\n",
    "pyautogui.click(x=1159, y=184)\n",
    "time.sleep(1)\n",
    "pyautogui.click(x=1066, y=590)"
   ]
  },
  {
   "cell_type": "markdown",
   "id": "c131e2fa",
   "metadata": {},
   "source": [
    "<h3>Ler o arquivo e pegar os indicadores</h3>\n",
    "\n",
    "* Faturamento\n",
    "*Quantidade de Produtos"
   ]
  },
  {
   "cell_type": "code",
   "execution_count": 73,
   "id": "0c1e21ff",
   "metadata": {},
   "outputs": [],
   "source": [
    "# Passo 4\n",
    "tabela = pd.read_excel(r\"C://Users/gabri/Downloads/Vendas - Dez.xlsx\")\n",
    "faturamento = tabela[\"Valor Final\"].sum()\n",
    "quantidade = tabela[\"Quantidade\"].sum()"
   ]
  },
  {
   "cell_type": "markdown",
   "id": "ebbaec63",
   "metadata": {},
   "source": [
    "<h3>Enviar o e-mail pelo Gmail</h3>"
   ]
  },
  {
   "cell_type": "code",
   "execution_count": 76,
   "id": "4bd40d66",
   "metadata": {},
   "outputs": [],
   "source": [
    "# Passo 5\n",
    "pyautogui.hotkey(\"ctrl\", \"t\")\n",
    "pyperclip.copy(\"https://mail.google.com/mail/u/0/#inbox\")\n",
    "pyautogui.hotkey(\"ctrl\", \"v\")\n",
    "pyautogui.press(\"enter\")\n",
    "time.sleep(5)\n",
    "\n",
    "#Passo 6\n",
    "pyautogui.click(x=86, y=198)\n",
    "\n",
    "pyperclip.copy(\"gabriel.silva.pinheiro2@gmail.com\")\n",
    "pyautogui.hotkey(\"ctrl\", \"v\")\n",
    "pyautogui.press(\"tab\")\n",
    "pyperclip.copy(\"Relatório de Vendas\")\n",
    "pyautogui.hotkey(\"ctrl\", \"v\")\n",
    "pyautogui.press(\"tab\")\n",
    "\n",
    "texto = f\"\"\"Prezados, bom dia\n",
    "          \n",
    "O faturamento de ontem foi de: {faturamento}\n",
    "A quantidade de produtos foi de: {quantidade}\n",
    "          \n",
    "Abs,\n",
    "Bot Python\"\"\"\n",
    "\n",
    "pyperclip.copy(texto)\n",
    "pyautogui.hotkey(\"ctrl\", \"v\")\n",
    "pyautogui.hotkey(\"ctrl\", \"enter\")\n"
   ]
  },
  {
   "cell_type": "markdown",
   "id": "2e592481",
   "metadata": {},
   "source": [
    "<h3>Para encontrar posição dos botões</h3>"
   ]
  },
  {
   "cell_type": "code",
   "execution_count": 75,
   "id": "b5cef78f",
   "metadata": {},
   "outputs": [],
   "source": [
    "#time.sleep(5)\n",
    "#pyautogui.position()"
   ]
  }
 ],
 "metadata": {
  "kernelspec": {
   "display_name": "Python 3 (ipykernel)",
   "language": "python",
   "name": "python3"
  },
  "language_info": {
   "codemirror_mode": {
    "name": "ipython",
    "version": 3
   },
   "file_extension": ".py",
   "mimetype": "text/x-python",
   "name": "python",
   "nbconvert_exporter": "python",
   "pygments_lexer": "ipython3",
   "version": "3.9.13"
  }
 },
 "nbformat": 4,
 "nbformat_minor": 5
}
